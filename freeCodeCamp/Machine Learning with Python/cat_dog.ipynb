{
 "cells": [
  {
   "cell_type": "code",
   "execution_count": null,
   "metadata": {
    "id": "la_Oz6oLlub6"
   },
   "outputs": [],
   "source": [
    "try:\n",
    "  # This command only in Colab.\n",
    "  %tensorflow_version 2.x\n",
    "except Exception:\n",
    "  pass\n",
    "import tensorflow as tf\n",
    "\n",
    "from tensorflow.keras.models import Sequential\n",
    "from tensorflow.keras.layers import Dense, Conv2D, Flatten, Dropout, MaxPooling2D\n",
    "from tensorflow.keras.preprocessing.image import ImageDataGenerator\n",
    "\n",
    "import os\n",
    "import numpy as np\n",
    "import matplotlib.pyplot as plt"
   ]
  },
  {
   "cell_type": "code",
   "execution_count": null,
   "metadata": {
    "id": "jaF8r6aOl48C"
   },
   "outputs": [],
   "source": [
    "# Get project files\n",
    "#!wget https://cdn.freecodecamp.org/project-data/cats-and-dogs/cats_and_dogs.zip\n",
    "\n",
    "#!unzip cats_and_dogs.zip\n",
    "PATH = r'C:\\Users\\udy\\.keras\\datasets\\cats_and_dogs'\n",
    "train_dir = os.path.join(PATH, 'train')\n",
    "validation_dir = os.path.join(PATH, 'validation')\n",
    "test_dir = os.path.join(PATH, 'test')\n",
    "\n",
    "# Get number of files in each directory. The train and validation directories\n",
    "# each have the subdirecories \"dogs\" and \"cats\".\n",
    "total_train = sum([len(files) for r, d, files in os.walk(train_dir)])\n",
    "total_val = sum([len(files) for r, d, files in os.walk(validation_dir)])\n",
    "total_test = len(os.listdir(test_dir))\n",
    "\n",
    "# Variables for pre-processing and training.\n",
    "batch_size = 128\n",
    "epochs = 15\n",
    "IMG_HEIGHT = 150\n",
    "IMG_WIDTH = 150"
   ]
  },
  {
   "cell_type": "code",
   "execution_count": null,
   "metadata": {
    "id": "EOJFeEfumns6"
   },
   "outputs": [],
   "source": [
    "# 3\n",
    "test_subdir = os.path.join(test_dir, 'unknown')\n",
    "if not os.path.exists(test_subdir):\n",
    "    os.makedirs(test_subdir)\n",
    "for fyl in os.listdir(test_dir):\n",
    "    if fyl[-3:] == 'jpg':\n",
    "        os.rename(os.path.join(test_dir, fyl), os.path.join(test_subdir, fyl))\n",
    "\n",
    "train_image_generator = tf.keras.preprocessing.image.ImageDataGenerator(rescale = 1.0 / 255.0)\n",
    "validation_image_generator = tf.keras.preprocessing.image.ImageDataGenerator(rescale = 1.0 / 255.0)\n",
    "test_image_generator = tf.keras.preprocessing.image.ImageDataGenerator(rescale = 1.0 / 255.0)\n",
    "\n",
    "train_data_gen = train_image_generator.flow_from_directory(directory = train_dir, batch_size = batch_size, target_size = (IMG_HEIGHT, IMG_WIDTH), class_mode = 'binary')\n",
    "val_data_gen = validation_image_generator.flow_from_directory(directory = validation_dir, batch_size = batch_size, target_size = (IMG_HEIGHT, IMG_WIDTH), class_mode = 'binary')\n",
    "test_data_gen = test_image_generator.flow_from_directory(directory = test_dir, batch_size = batch_size, target_size = (IMG_HEIGHT, IMG_WIDTH), shuffle = False, class_mode = None)"
   ]
  },
  {
   "cell_type": "code",
   "execution_count": null,
   "metadata": {
    "id": "TP0WA8j1mt7Q"
   },
   "outputs": [],
   "source": [
    "# 4\n",
    "def plotImages(images_arr, probabilities = False):\n",
    "    fig, axes = plt.subplots(len(images_arr), 1, figsize=(5,len(images_arr) * 3))\n",
    "    if probabilities is False:\n",
    "      for img, ax in zip( images_arr, axes):\n",
    "          ax.imshow(img)\n",
    "          ax.axis('off')\n",
    "    else:\n",
    "      for img, probability, ax in zip( images_arr, probabilities, axes):\n",
    "          ax.imshow(img)\n",
    "          ax.axis('off')\n",
    "          if probability > 0.5:\n",
    "              ax.set_title(\"%.2f\" % (probability*100) + \"% dog\")\n",
    "          else:\n",
    "              ax.set_title(\"%.2f\" % ((1-probability)*100) + \"% cat\")\n",
    "    plt.show()\n",
    "\n",
    "sample_training_images, _ = next(train_data_gen)\n",
    "plotImages(sample_training_images[:5])\n"
   ]
  },
  {
   "cell_type": "code",
   "execution_count": null,
   "metadata": {
    "id": "-32RRLY_3voj"
   },
   "outputs": [],
   "source": [
    "# 5\n",
    "train_image_generator = tf.keras.preprocessing.image.ImageDataGenerator(rotation_range = 30,\n",
    "                                                                        width_shift_range = 0.1,\n",
    "                                                                        height_shift_range = 0.1,\n",
    "                                                                        zoom_range = 0.2,\n",
    "                                                                        horizontal_flip = True,\n",
    "                                                                        fill_mode = 'nearest',\n",
    "                                                                        rescale = 1.0 / 255.0)"
   ]
  },
  {
   "cell_type": "code",
   "execution_count": null,
   "metadata": {
    "id": "pkwq2LFvqabS"
   },
   "outputs": [],
   "source": [
    "# 6\n",
    "train_data_gen = train_image_generator.flow_from_directory(batch_size=batch_size,\n",
    "                                                     directory=train_dir,\n",
    "                                                     target_size=(IMG_HEIGHT, IMG_WIDTH),\n",
    "                                                     class_mode='binary')\n",
    "\n",
    "augmented_images = [train_data_gen[0][0][0] for i in range(5)]\n",
    "\n",
    "plotImages(augmented_images)"
   ]
  },
  {
   "cell_type": "code",
   "execution_count": null,
   "metadata": {
    "id": "k8aZkwMam4UY"
   },
   "outputs": [],
   "source": [
    "# 7\n",
    "# this model consistently gets > 70% accuracy. it can be further improved by experimenting on model's design\n",
    "model = Sequential()\n",
    "model.add(tf.keras.layers.Conv2D(filters = 32, kernel_size = (5, 5), activation = 'relu', input_shape = (IMG_HEIGHT, IMG_WIDTH, 3)))    # input layer with 32 filters of size (5, 5). data input shape (IMG_HEIGHT, IMG_WIDTH, 3)\n",
    "model.add(tf.keras.layers.MaxPooling2D(pool_size = (4, 4)))    # pooling with Max function with window size (4, 4). strides default to pool_size if not mentioned or None\n",
    "model.add(tf.keras.layers.Conv2D(filters = 32, kernel_size = (4, 4), activation = 'relu'))\n",
    "model.add(tf.keras.layers.MaxPooling2D(pool_size = (3, 3)))\n",
    "model.add(tf.keras.layers.Conv2D(filters = 32, kernel_size = (2, 2), activation = 'relu'))\n",
    "model.add(tf.keras.layers.Flatten())    # to flatten the multidimensional data\n",
    "model.add(tf.keras.layers.Dense(64, activation = 'relu', kernel_initializer = 'he_uniform'))    # dense hidden layer; he_uniform is recommended with relu\n",
    "model.add(tf.keras.layers.Dense(1))    # output layer\n",
    "\n",
    "model.compile(optimizer = tf.keras.optimizers.Adam(),    # learning_rate can be passed to Adam if needed\n",
    "              loss = tf.keras.losses.BinaryCrossentropy(from_logits = True),\n",
    "              metrics = ['accuracy'])\n",
    "\n",
    "model.summary()"
   ]
  },
  {
   "cell_type": "code",
   "execution_count": null,
   "metadata": {
    "id": "1niQDz5x6K7y"
   },
   "outputs": [],
   "source": [
    "# 8\n",
    "history = model.fit(train_data_gen,\n",
    "                    epochs = epochs,\n",
    "                    validation_data = val_data_gen)"
   ]
  },
  {
   "cell_type": "code",
   "execution_count": null,
   "metadata": {},
   "outputs": [],
   "source": [
    "probabilities = np.round(tf.nn.sigmoid(model.predict(test_data_gen)).numpy().flatten()).astype(np.int64)"
   ]
  },
  {
   "cell_type": "code",
   "execution_count": null,
   "metadata": {
    "id": "5xS51mB56OAC"
   },
   "outputs": [],
   "source": [
    "# 9\n",
    "acc = history.history['accuracy']\n",
    "val_acc = history.history['val_accuracy']\n",
    "\n",
    "loss = history.history['loss']\n",
    "val_loss = history.history['val_loss']\n",
    "\n",
    "epochs_range = range(epochs)\n",
    "\n",
    "plt.figure(figsize=(8, 8))\n",
    "plt.subplot(1, 2, 1)\n",
    "plt.plot(epochs_range, acc, label='Training Accuracy')\n",
    "plt.plot(epochs_range, val_acc, label='Validation Accuracy')\n",
    "plt.legend(loc='lower right')\n",
    "plt.title('Training and Validation Accuracy')\n",
    "\n",
    "plt.subplot(1, 2, 2)\n",
    "plt.plot(epochs_range, loss, label='Training Loss')\n",
    "plt.plot(epochs_range, val_loss, label='Validation Loss')\n",
    "plt.legend(loc='upper right')\n",
    "plt.title('Training and Validation Loss')\n",
    "plt.show()"
   ]
  },
  {
   "cell_type": "code",
   "execution_count": null,
   "metadata": {
    "id": "4IH86Ux_u7TZ"
   },
   "outputs": [],
   "source": [
    "# 11\n",
    "answers =  [1, 0, 0, 1, 0, 0, 0, 0, 1, 1, 0,\n",
    "            1, 0, 1, 0, 1, 1, 0, 1, 1, 0, 0,\n",
    "            1, 1, 1, 1, 1, 0, 0, 0, 0, 0, 1,\n",
    "            1, 0, 1, 1, 1, 1, 0, 1, 0, 1, 1,\n",
    "            0, 0, 0, 0, 0, 0]\n",
    "\n",
    "correct = 0\n",
    "\n",
    "for probability, answer in zip(probabilities, answers):\n",
    "  if round(probability) == answer:\n",
    "    correct +=1\n",
    "\n",
    "percentage_identified = (correct / len(answers)) * 100\n",
    "\n",
    "passed_challenge = percentage_identified >= 63\n",
    "\n",
    "print(f\"Your model correctly identified {round(percentage_identified, 2)}% of the images of cats and dogs.\")\n",
    "\n",
    "if passed_challenge:\n",
    "  print(\"You passed the challenge!\")\n",
    "else:\n",
    "  print(\"You haven't passed yet. Your model should identify at least 63% of the images. Keep trying. You will get it!\")"
   ]
  },
  {
   "cell_type": "code",
   "execution_count": null,
   "metadata": {},
   "outputs": [],
   "source": []
  }
 ],
 "metadata": {
  "colab": {
   "provenance": [
    {
     "file_id": "https://github.com/freeCodeCamp/boilerplate-cat-and-dog-image-classifier/blob/master/fcc_cat_dog.ipynb",
     "timestamp": 1690790830542
    }
   ]
  },
  "kernelspec": {
   "display_name": "Python 3 (ipykernel)",
   "language": "python",
   "name": "python3"
  },
  "language_info": {
   "codemirror_mode": {
    "name": "ipython",
    "version": 3
   },
   "file_extension": ".py",
   "mimetype": "text/x-python",
   "name": "python",
   "nbconvert_exporter": "python",
   "pygments_lexer": "ipython3",
   "version": "3.9.8"
  }
 },
 "nbformat": 4,
 "nbformat_minor": 4
}
