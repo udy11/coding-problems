{
  "cells": [
    {
      "cell_type": "code",
      "execution_count": null,
      "metadata": {
        "id": "1rRo8oNqZ-Rj"
      },
      "outputs": [],
      "source": [
        "# Import libraries. You may or may not use all of these.\n",
        "!pip install -q git+https://github.com/tensorflow/docs\n",
        "import matplotlib.pyplot as plt\n",
        "import numpy as np\n",
        "import pandas as pd\n",
        "\n",
        "try:\n",
        "  # %tensorflow_version only exists in Colab.\n",
        "  %tensorflow_version 2.x\n",
        "except Exception:\n",
        "  pass\n",
        "import tensorflow as tf\n",
        "\n",
        "from tensorflow import keras\n",
        "from tensorflow.keras import layers\n",
        "\n",
        "import tensorflow_docs as tfdocs\n",
        "import tensorflow_docs.plots\n",
        "import tensorflow_docs.modeling"
      ]
    },
    {
      "cell_type": "code",
      "execution_count": null,
      "metadata": {
        "id": "CiX2FI4gZtTt"
      },
      "outputs": [],
      "source": [
        "# Import data\n",
        "!wget https://cdn.freecodecamp.org/project-data/health-costs/insurance.csv\n",
        "dataset = pd.read_csv('insurance.csv')\n",
        "dataset.tail()"
      ]
    },
    {
      "cell_type": "code",
      "execution_count": null,
      "metadata": {
        "id": "LcopvQh3X-kX"
      },
      "outputs": [],
      "source": [
        "dataset_1 = dataset.copy()    # make a copy of original data\n",
        "dataset_1.loc[:, 'sex'] = dataset_1.loc[:, 'sex'].map({'female' : -1, 'male' : 1})    # integer encoding of sex\n",
        "dataset_1.loc[:, 'smoker'] = dataset_1.loc[:, 'smoker'].map({'no' : -1, 'yes' : 1})    # integer encoding of smoker\n",
        "dataset_1.loc[:, 'vertical'] = dataset_1.loc[:, 'region'].map({'northeast' : 1, 'northwest' : 1, 'southeast' : -1, 'southwest' : -1})    # treating north, south as +1, -1\n",
        "dataset_1.loc[:, 'horizontal'] = dataset_1.loc[:, 'region'].map({'northeast' : 1, 'northwest' : -1, 'southeast' : 1, 'southwest' : -1})    # treating east, west as +1, -1\n",
        "dataset_1.pop('region')    # removing region column\n",
        "dataset_1 = dataset_1.astype(np.float32)    # convert all data to float32"
      ]
    },
    {
      "cell_type": "code",
      "source": [
        "train_dataset = dataset_1.sample(frac = 0.8)    # randomly select ~80% of data for training\n",
        "test_dataset = dataset_1.drop(train_dataset.index)    # remaining data for testing\n",
        "train_labels = train_dataset.pop('expenses')    # expenses column will be target column\n",
        "test_labels = test_dataset.pop('expenses')"
      ],
      "metadata": {
        "id": "CD5WHnh-FwMW"
      },
      "execution_count": null,
      "outputs": []
    },
    {
      "cell_type": "code",
      "source": [
        "normalizer = tf.keras.layers.Normalization(axis = -1)    # normalization layer\n",
        "normalizer.adapt(train_dataset)    # normalizes on all the columns of train_dataset, though it's unnecessary for integer-encoded columns\n",
        "model = keras.Sequential([normalizer,\n",
        "                          layers.Dense(1)])    # adding more layers while keeping activation None (to keep the model linear) can give better results\n",
        "model.compile(optimizer = tf.keras.optimizers.Adam(learning_rate = 10),\n",
        "              loss = keras.losses.MeanAbsoluteError(),\n",
        "              metrics = ['mae', 'mse'])    # this makes output of evaluate loss, mae, mse"
      ],
      "metadata": {
        "id": "M3Z_i2aWFysF"
      },
      "execution_count": null,
      "outputs": []
    },
    {
      "cell_type": "code",
      "source": [
        "history = model.fit(train_dataset,\n",
        "                    train_labels,\n",
        "                    epochs = 150,    # increasing learning_rate can reduce this but how far can we go?\n",
        "                    verbose = 0)"
      ],
      "metadata": {
        "id": "KdmMO5ltH0UO"
      },
      "execution_count": null,
      "outputs": []
    },
    {
      "cell_type": "code",
      "source": [
        "fig, axs = plt.subplots()\n",
        "axs.semilogy(history.history['loss'])\n",
        "axs.axhline(3500, color = 'darkgreen', linewidth = 1)\n",
        "axs.set_xlabel('epoch')\n",
        "axs.set_ylabel('loss')\n",
        "plt.show()"
      ],
      "metadata": {
        "id": "LoQyBU8HH3R2"
      },
      "execution_count": null,
      "outputs": []
    },
    {
      "cell_type": "code",
      "execution_count": null,
      "metadata": {
        "id": "Xe7RXH3N3CWU"
      },
      "outputs": [],
      "source": [
        "# RUN THIS CELL TO TEST YOUR MODEL. DO NOT MODIFY CONTENTS.\n",
        "# Test model by checking how well the model generalizes using the test set.\n",
        "loss, mae, mse = model.evaluate(test_dataset, test_labels, verbose=2)\n",
        "\n",
        "print(\"Testing set Mean Abs Error: {:5.2f} expenses\".format(mae))\n",
        "\n",
        "if mae < 3500:\n",
        "  print(\"You passed the challenge. Great job!\")\n",
        "else:\n",
        "  print(\"The Mean Abs Error must be less than 3500. Keep trying.\")\n",
        "\n",
        "# Plot predictions.\n",
        "test_predictions = model.predict(test_dataset).flatten()\n",
        "\n",
        "a = plt.axes(aspect='equal')\n",
        "plt.scatter(test_labels, test_predictions)\n",
        "plt.xlabel('True values (expenses)')\n",
        "plt.ylabel('Predictions (expenses)')\n",
        "lims = [0, 50000]\n",
        "plt.xlim(lims)\n",
        "plt.ylim(lims)\n",
        "_ = plt.plot(lims,lims)\n"
      ]
    }
  ],
  "metadata": {
    "colab": {
      "private_outputs": true,
      "provenance": [],
      "toc_visible": true
    },
    "kernelspec": {
      "display_name": "Python 3",
      "name": "python3"
    }
  },
  "nbformat": 4,
  "nbformat_minor": 0
}