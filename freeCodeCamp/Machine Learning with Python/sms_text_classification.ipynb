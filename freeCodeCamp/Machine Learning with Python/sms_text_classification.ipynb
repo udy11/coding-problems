{
  "cells": [
    {
      "cell_type": "code",
      "execution_count": null,
      "metadata": {
        "id": "8RZOuS9LWQvv"
      },
      "outputs": [],
      "source": [
        "# import libraries\n",
        "#try:\n",
        "  # %tensorflow_version only exists in Colab.\n",
        "  #!pip install tf-nightly\n",
        "#except Exception:\n",
        "#  pass\n",
        "import tensorflow as tf\n",
        "import pandas as pd\n",
        "from tensorflow import keras\n",
        "#!pip install tensorflow-datasets\n",
        "#import tensorflow_datasets as tfds\n",
        "import numpy as np\n",
        "import matplotlib.pyplot as plt\n",
        "\n",
        "print(tf.__version__)"
      ]
    },
    {
      "cell_type": "code",
      "execution_count": null,
      "metadata": {
        "id": "lMHwYXHXCar3"
      },
      "outputs": [],
      "source": [
        "# get data files\n",
        "!wget https://cdn.freecodecamp.org/project-data/sms/train-data.tsv\n",
        "!wget https://cdn.freecodecamp.org/project-data/sms/valid-data.tsv\n",
        "\n",
        "train_file_path = \"train-data.tsv\"\n",
        "test_file_path = \"valid-data.tsv\""
      ]
    },
    {
      "cell_type": "code",
      "execution_count": null,
      "metadata": {
        "id": "g_h508FEClxO"
      },
      "outputs": [],
      "source": [
        "dataset_train = []\n",
        "label_train = []\n",
        "with open(train_file_path, mode = 'r',encoding = 'utf-8') as trfl:\n",
        "    lyn = trfl.readline()\n",
        "    while lyn != '':\n",
        "        cat, sms = lyn.split('\\t', 1)\n",
        "        dataset_train.append(sms.strip())\n",
        "        if cat == 'ham':\n",
        "            label_train.append(0)\n",
        "        elif cat == 'spam':\n",
        "            label_train.append(1)\n",
        "        else:\n",
        "            print('Some problem with reading train-data in line:', lyn)\n",
        "        lyn = trfl.readline()\n",
        "dataset_test = []\n",
        "label_test = []\n",
        "with open(test_file_path, mode = 'r',encoding = 'utf-8') as tefl:\n",
        "    lyn = tefl.readline()\n",
        "    while lyn != '':\n",
        "        cat, sms = lyn.split('\\t', 1)\n",
        "        dataset_test.append(sms.strip())\n",
        "        if cat == 'ham':\n",
        "            label_test.append(0)\n",
        "        elif cat == 'spam':\n",
        "            label_test.append(1)\n",
        "        else:\n",
        "            print('Some problem with reading test-data in line:', lyn)\n",
        "        lyn = tefl.readline()\n",
        "tfds_train = tf.data.Dataset.from_tensor_slices((dataset_train, label_train))\n",
        "tfds_test = tf.data.Dataset.from_tensor_slices((dataset_test, label_test))"
      ]
    },
    {
      "cell_type": "code",
      "source": [
        "BUFFER_SIZE = 10000\n",
        "BATCH_SIZE = 199\n",
        "tfds_train = tfds_train.shuffle(BUFFER_SIZE, reshuffle_each_iteration = False)    # shuffles the data to BUFFER_SIZE, set buffer_size = dataset.cardinality() for uniform shuffling but will load all data into memory. reshuffle_each_iteration shuffles data every epoch (or whenever it is called, e.g. using take)\n",
        "tfds_train = tfds_train.batch(BATCH_SIZE)    # uses data in this batch size\n",
        "tfds_train = tfds_train.prefetch(tf.data.AUTOTUNE)    # this optimizes data fetching. also check https://www.tensorflow.org/guide/data_performance\n",
        "tfds_test = tfds_test.batch(BATCH_SIZE)\n",
        "tfds_test = tfds_test.prefetch(tf.data.AUTOTUNE)"
      ],
      "metadata": {
        "id": "gkcBKvCRGdsQ"
      },
      "execution_count": null,
      "outputs": []
    },
    {
      "cell_type": "code",
      "execution_count": null,
      "metadata": {
        "id": "zOMKywn4zReN"
      },
      "outputs": [],
      "source": [
        "VOCAB_SIZE = 1024\n",
        "encoder = tf.keras.layers.TextVectorization(max_tokens = VOCAB_SIZE, standardize = 'lower_and_strip_punctuation')    # if max_tokens is not passed, it'll include all the words in its vocabulary. standardize option can change case to lower and/or remove all punctuations\n",
        "encoder.adapt(dataset_train)\n",
        "vocab = np.array(encoder.get_vocabulary())    # list of all vocabulary, sorted by frequency\n",
        "print(len(vocab), vocab[:10])    # prints size and first 10 vocabulary of this layer, [UNK] refers to unknown vocabulary\n",
        "print(encoder(dataset_train[1]))    # passing a sentence to this layer will return indices of each word in its vocabulary"
      ]
    },
    {
      "cell_type": "code",
      "source": [
        "# define the model\n",
        "model = tf.keras.Sequential([\n",
        "    encoder,    # text vectorization layer\n",
        "    tf.keras.layers.Embedding(input_dim = len(encoder.get_vocabulary()), output_dim = 32, mask_zero = True),    # converts words to trainable vectors. input_dim is size of vocabulary; output_dim is size of each vector; mask_zero is needed to deal with 0-padding in variable length input\n",
        "    tf.keras.layers.Bidirectional(tf.keras.layers.LSTM(32)),    # Bidirectional wrapper propagates the input forward and backwards through the Long Short-Term Memory (LSTM) RNN layer. 32 is dimensionality of output space\n",
        "    tf.keras.layers.Dense(32, activation = 'relu', kernel_initializer = 'he_uniform'),\n",
        "    tf.keras.layers.Dense(1)\n",
        "])\n",
        "model.compile(loss = tf.keras.losses.BinaryCrossentropy(from_logits = True),    # for binary classification\n",
        "              optimizer = tf.keras.optimizers.Adam(learning_rate = 1.0e-3),\n",
        "              metrics = ['accuracy'])\n",
        "model.summary()    # check summary of the model"
      ],
      "metadata": {
        "id": "R2kR30pOGlGn"
      },
      "execution_count": null,
      "outputs": []
    },
    {
      "cell_type": "code",
      "source": [
        "history = model.fit(tfds_train,\n",
        "                    epochs = 8,\n",
        "                    validation_data = tfds_test)"
      ],
      "metadata": {
        "id": "KUD6eTmLGoFY"
      },
      "execution_count": null,
      "outputs": []
    },
    {
      "cell_type": "code",
      "execution_count": null,
      "metadata": {
        "id": "J9tD9yACG6M9"
      },
      "outputs": [],
      "source": [
        "# function to predict messages based on model\n",
        "# (should return list containing prediction and label, ex. [0.008318834938108921, 'ham'])\n",
        "def predict_message(pred_text):\n",
        "    prediction = [tf.nn.sigmoid(model.predict([pred_text], verbose = 0)).numpy()[0,0]]\n",
        "    if prediction[0] <= 0.5:\n",
        "        prediction.append('ham')\n",
        "    else:\n",
        "        prediction.append('spam')\n",
        "    return (prediction)\n",
        "\n",
        "pred_text = \"how are you doing today?\"\n",
        "\n",
        "prediction = predict_message(pred_text)\n",
        "print(prediction)"
      ]
    },
    {
      "cell_type": "code",
      "execution_count": null,
      "metadata": {
        "id": "Dxotov85SjsC"
      },
      "outputs": [],
      "source": [
        "# Run this cell to test your function and model. Do not modify contents.\n",
        "def test_predictions():\n",
        "  test_messages = [\"how are you doing today\",\n",
        "                   \"sale today! to stop texts call 98912460324\",\n",
        "                   \"i dont want to go. can we try it a different day? available sat\",\n",
        "                   \"our new mobile video service is live. just install on your phone to start watching.\",\n",
        "                   \"you have won £1000 cash! call to claim your prize.\",\n",
        "                   \"i'll bring it tomorrow. don't forget the milk.\",\n",
        "                   \"wow, is your arm alright. that happened to me one time too\"\n",
        "                  ]\n",
        "\n",
        "  test_answers = [\"ham\", \"spam\", \"ham\", \"spam\", \"spam\", \"ham\", \"ham\"]\n",
        "  passed = True\n",
        "\n",
        "  for msg, ans in zip(test_messages, test_answers):\n",
        "    prediction = predict_message(msg)\n",
        "    if prediction[1] != ans:\n",
        "      passed = False\n",
        "\n",
        "  if passed:\n",
        "    print(\"You passed the challenge. Great job!\")\n",
        "  else:\n",
        "    print(\"You haven't passed yet. Keep trying.\")\n",
        "\n",
        "test_predictions()\n"
      ]
    }
  ],
  "metadata": {
    "colab": {
      "private_outputs": true,
      "provenance": [],
      "toc_visible": true
    },
    "kernelspec": {
      "display_name": "Python 3",
      "name": "python3"
    },
    "language_info": {}
  },
  "nbformat": 4,
  "nbformat_minor": 0
}